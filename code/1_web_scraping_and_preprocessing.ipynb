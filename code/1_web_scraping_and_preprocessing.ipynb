{
 "cells": [
  {
   "cell_type": "markdown",
   "metadata": {},
   "source": [
    "# Data Gathering and Cleaning"
   ]
  },
  {
   "cell_type": "markdown",
   "metadata": {},
   "source": [
    "## Web Scraping & Preprocessing\n",
    "In this notebook, I use Reddit's Pushshift API to scrape the House of Cards and The West Wing subreddits. I use the max number of post requests (500) four times for both submissions and comments for a total of 8000 posts. Rather than use the present as my starting point and pull posts in reverse chronological order, I used the UTC timestamp 1478677500 and pulled the nearest 2000 posts before and after the timestamp for both submissions and comments. This timestamp is significant because it represents 2:45am, November 9, 2016, roughly the time Donald Trump was declared president-elect. I thought this might serve as a useful divide for my data in that 1) it might provide more interesting predictor words for my target variable (the subreddit source of the given text data) given the tumultuous political climate at the time and the fact that these are political dramas, and 2) give me a framework within which I could explore extra analysis (e.g. predicting posts that came before or after the timestamp instead of predicting for the subreddit source).\n",
    "\n",
    "I pulled this data in two phases, since I found after initial modelling that I needed to collect more data. Because I went both forward and backward in time to collect the data, initializing the second phase of data collection was a challenge. Because of how messy this proved, I left the two phases separate in this notebook and am transparent about why I needed to collect more data and the process I took to do so. Toward the end of the notebook, I lemmatize my text and remove stopwords from the NLTK library, visually examine the quantity of my data, and export the cleaned data for modelling."
   ]
  },
  {
   "cell_type": "markdown",
   "metadata": {},
   "source": [
    "### Library Imports"
   ]
  },
  {
   "cell_type": "code",
   "execution_count": 1,
   "metadata": {},
   "outputs": [],
   "source": [
    "# Import basic libraries\n",
    "import numpy as np\n",
    "import pandas as pd\n",
    "import matplotlib.pyplot as plt\n",
    "import seaborn as sns\n",
    "\n",
    "# Import NLP and webscraping libraries\n",
    "import requests\n",
    "import nltk\n",
    "from nltk.stem import WordNetLemmatizer\n",
    "from nltk.tokenize import RegexpTokenizer\n",
    "from nltk.corpus import stopwords\n",
    "import re"
   ]
  },
  {
   "cell_type": "markdown",
   "metadata": {},
   "source": [
    "### Web Scraping w/Pushshift"
   ]
  },
  {
   "cell_type": "code",
   "execution_count": 2,
   "metadata": {},
   "outputs": [],
   "source": [
    "# Sets list of dicts to host params for Reddit's API, Pushshift\n",
    "\n",
    "subreddits = ['HouseOfCards', 'thewestwing'] # Creates list of subreddits to iterate through\n",
    "time = ['before', 'after'] # Creates list of time-based parameters to iterate through\n",
    "params_ls = [] # Creates empty list to fill with parameters dicts\n",
    "for sub in subreddits: # Iterates through above lists to populate params dicts\n",
    "    for period in time:\n",
    "        params = {\n",
    "            'subreddit': sub,\n",
    "            'size': 500,\n",
    "            period: 1478677500 # Time stamp for 11/9/16 at 2:45am, when Trump is declared president-elect\n",
    "            }\n",
    "        params_ls.append(params)"
   ]
  },
  {
   "cell_type": "code",
   "execution_count": 3,
   "metadata": {},
   "outputs": [
    {
     "name": "stdout",
     "output_type": "stream",
     "text": [
      "200\n",
      "200\n",
      "200\n",
      "200\n",
      "200\n",
      "200\n",
      "200\n",
      "200\n"
     ]
    }
   ],
   "source": [
    "# Uses params dicts above with Pushshift to scrape Reddit for TWW/HoC submission & comment data\n",
    "\n",
    "sub_url = 'https://api.pushshift.io/reddit/search/submission'\n",
    "com_url = 'https://api.pushshift.io/reddit/search/comment'\n",
    "urls = [sub_url, com_url] # Creates list of urls to iterate through\n",
    "res_ls = [] # Creates empty list to fill with scraped json data\n",
    "for ls in params_ls: # Iterates through params dicts and urls to make each Pushshift request\n",
    "    for url in urls:\n",
    "        res = requests.get(url, ls)\n",
    "        res_ls.append(res.json())\n",
    "        print(res.status_code) # Returns status code for each API request"
   ]
  },
  {
   "cell_type": "markdown",
   "metadata": {},
   "source": [
    "### Data Cleaning\n",
    "\n",
    "Here I convert each json dictionary into a pandas dataframe and concatenate them into one dataframe. I then create a column flagging the data as being published after/before Trump's election. I also create a column flagging the data as a submission/comment, using the 'title' column as a signifier for submission, since comments don't have titles and thus have NaN values in the title column. I then fill NaNs in each text column with a blank space and concatenate all text columns into one column. Finally, I eliminate all of the columns I don't need.  "
   ]
  },
  {
   "cell_type": "code",
   "execution_count": 4,
   "metadata": {},
   "outputs": [],
   "source": [
    "# Merges scraped data into one dataframe\n",
    "west_house = pd.concat([pd.DataFrame(ls['data']) for ls in res_ls], ignore_index=True)\n",
    "\n",
    "# Creates flag column to signal when each piece of text was posted relative Trump's election\n",
    "west_house['trump'] = np.where(west_house['created_utc'] > 1478677500, 1, 0)\n",
    "\n",
    "# Creates flag column for submission vs. comment posts\n",
    "west_house['submission'] = np.where(west_house['title'].notna(), 1, 0)\n",
    "\n",
    "# Concaenates all text columns, regardless of submission/comment type, into one text column\n",
    "west_house['text'] = west_house.fillna(\" \")['title'] + west_house.fillna(\" \")['selftext'] + west_house.fillna(\" \")['body']\n",
    "\n",
    "# Creates new dataframe with only needed columns\n",
    "west_house = west_house[['text', 'subreddit', 'trump', 'submission', 'created_utc']]"
   ]
  },
  {
   "cell_type": "markdown",
   "metadata": {},
   "source": [
    "### Uh...I Need More Data!\n",
    "\n",
    "Initial modelling yielded high variance and higher-than-expected bias. To help counteract this, I am doubling my dataset. I did this in three phases: \n",
    "\n",
    "1. I determined the timestamp to start from for each data subset. The challenge was using the the farthest-removed timestamp (forward and backward, depending on the data) from Trump's election, which is different for all 8 data subsets.\n",
    "2. I took this new list of Pushshift dictionaries (one for submissions and one for comments) and applied the same code used in the first round of data collection (above) to extract data from Reddit, convert the json dictionaries to pandas dataframes, and concatenates the dataframes into one.\n",
    "3. Finally, I concatenate the dataframes from both rounds of data collection into one master dataframe."
   ]
  },
  {
   "cell_type": "code",
   "execution_count": 5,
   "metadata": {},
   "outputs": [],
   "source": [
    "# Step 1, from above\n",
    "\n",
    "params_sub = [] # Creates empty list for submission timestamps\n",
    "for sub in subreddits: # Same iterations as first round of data collection\n",
    "    for period in time:\n",
    "        \n",
    "        # Creates mask of 'submission' utc stamps for each reddit\n",
    "        times = west_house[(west_house['subreddit'] == sub) \n",
    "           & (west_house['submission'] == 1)]['created_utc']\n",
    "        \n",
    "        # Uses the mask to find the minimum and maximum timestamp and appends them to empty list above\n",
    "        param = {\n",
    "            'subreddit': sub,\n",
    "            'size': 500,\n",
    "            period: times.min() if period == 'before' else times.max()\n",
    "                }\n",
    "        params_sub.append(param)\n",
    "        \n",
    "# Repeats above, but for comments\n",
    "params_com = []\n",
    "for sub in subreddits:\n",
    "    for period in time:\n",
    "        times = west_house[(west_house['subreddit'] == sub) \n",
    "           & (west_house['submission'] == 0)]['created_utc']\n",
    "        param = {\n",
    "            'subreddit': sub,\n",
    "            'size': 500,\n",
    "            period: times.min() if period == 'before' else times.max() \n",
    "                }\n",
    "        params_com.append(param)"
   ]
  },
  {
   "cell_type": "code",
   "execution_count": 6,
   "metadata": {},
   "outputs": [
    {
     "name": "stdout",
     "output_type": "stream",
     "text": [
      "200\n",
      "200\n",
      "200\n",
      "200\n",
      "200\n",
      "200\n",
      "200\n",
      "200\n"
     ]
    }
   ],
   "source": [
    "# Step 2, from above\n",
    "\n",
    "res_sub = [] # Creates empty list to fill with scraped json data\n",
    "for ls in params_sub: # Iterates through params dicts and urls to make each Pushshift request\n",
    "    res = requests.get(sub_url, ls)\n",
    "    res_sub.append(res.json())\n",
    "    print(res.status_code) # Returns status code for each API request\n",
    "    \n",
    "res_com = [] # Creates empty list to fill with scraped json data\n",
    "for ls in params_com: # Iterates through params dicts and urls to make each Pushshift request\n",
    "    res = requests.get(com_url, ls)\n",
    "    res_com.append(res.json())\n",
    "    print(res.status_code) # Returns status code for each API request\n",
    "\n",
    "# Merges scraped data into individual dataframes and then into one dataframe\n",
    "west_house2 = pd.concat([pd.DataFrame(ls['data']) for ls in res_sub], ignore_index=True)\n",
    "west_house3 = pd.concat([pd.DataFrame(ls['data']) for ls in res_com], ignore_index=True)\n",
    "west_house2 = pd.concat([west_house2, west_house3])\n",
    "\n",
    "# Follows identical path as above regarding flag columns and removing inessential columns\n",
    "west_house2['trump'] = np.where(west_house2['created_utc'] > 1478677500, 1, 0)\n",
    "west_house2['submission'] = np.where(west_house2['title'].notna(), 1, 0)\n",
    "west_house2['text'] = west_house2.fillna(\" \")['title'] + west_house2.fillna(\" \")['selftext'] + west_house2.fillna(\" \")['body']\n",
    "west_house2 = west_house2[['text', 'subreddit', 'trump', 'submission', 'created_utc']]"
   ]
  },
  {
   "cell_type": "code",
   "execution_count": 7,
   "metadata": {},
   "outputs": [],
   "source": [
    "# Step 3, from above: Concatenates data from both data extraction rounds\n",
    "\n",
    "west_house = pd.concat([west_house, west_house2], ignore_index=True)"
   ]
  },
  {
   "cell_type": "markdown",
   "metadata": {},
   "source": [
    "### EDA/Data Viz"
   ]
  },
  {
   "cell_type": "code",
   "execution_count": 8,
   "metadata": {},
   "outputs": [
    {
     "data": {
      "text/plain": [
       "301676"
      ]
     },
     "execution_count": 8,
     "metadata": {},
     "output_type": "execute_result"
    }
   ],
   "source": [
    "# Creates column for word count and then assigns the total word count by subreddit to a variable for each \n",
    "west_house['word_count'] = [len(i.split()) for i in west_house['text']]\n",
    "west_house['word_count'].sum()"
   ]
  },
  {
   "cell_type": "code",
   "execution_count": 9,
   "metadata": {},
   "outputs": [
    {
     "data": {
      "image/png": "[encoded data removed]",
      "text/plain": [
       "<Figure size 720x720 with 1 Axes>"
      ]
     },
     "metadata": {
      "needs_background": "light"
     },
     "output_type": "display_data"
    }
   ],
   "source": [
    "# Assigns the total word count by subreddit to a variable for each \n",
    "# post type (submission and comment)\n",
    "sub_words = list(west_house[west_house['submission'] == 1].groupby('subreddit')['word_count'].sum())\n",
    "com_words = list(west_house[west_house['submission'] == 0].groupby('subreddit')['word_count'].sum())\n",
    "\n",
    "# The following code was adapted from https://matplotlib.org/gallery/api/barchart.html\n",
    "ind = np.arange(2)\n",
    "width = 0.35\n",
    "fig, ax = plt.subplots(figsize=(10, 10))\n",
    "sub = ax.bar(ind - width/2, sub_words, width, color='dodgerblue', label='Submissions')\n",
    "com = ax.bar(ind + width/2, com_words, width, color='crimson', label='Comments')\n",
    "plt.title('Total Word Count by Post Type & Subreddit', fontsize=20)\n",
    "ax.set_ylabel('Word Count', fontsize=15)\n",
    "ax.set_xticks(ind)\n",
    "ax.set_xticklabels(['House Of Cards', 'The West Wing'], fontsize=15)\n",
    "ax.legend(fontsize=15)\n",
    "ax.set_ylim([0, 110_000])\n",
    "\n",
    "def autolabel(rects, xpos='center'):\n",
    "    ha = {'center': 'center', 'right': 'left', 'left': 'right'}\n",
    "    offset = {'center': .5, 'right': 0.25, 'left': 0.75}\n",
    "\n",
    "    for rect in rects:\n",
    "        height = rect.get_height()\n",
    "        ax.text(rect.get_x() + rect.get_width()*offset[xpos], 1.01*height,\n",
    "                '{}'.format(height), ha=ha[xpos], va='bottom', fontsize=15)\n",
    "autolabel(sub, \"left\")\n",
    "autolabel(com, \"right\");"
   ]
  },
  {
   "cell_type": "markdown",
   "metadata": {},
   "source": [
    "### Final Touches\n",
    "\n",
    "That should be plenty of text to start with. Now let's clean it up! For the last bit of data cleaning and preprocessing, I recode my target variable as 1s and 0s, engineer the text data with the nltk library's word lemmatizer and stopwords list, and remove rows with no text data."
   ]
  },
  {
   "cell_type": "code",
   "execution_count": 10,
   "metadata": {},
   "outputs": [],
   "source": [
    "# Converts subreddit column as 1s and 0s, since it will be my target variable\n",
    "# (I waited until now to do this so that I could iterate through the same list of subreddit names\n",
    "# for both rounds of data collection and use the same variable to fill two spots in my for loop.)\n",
    "\n",
    "west_house['subreddit'] = np.where(west_house['subreddit'] == 'thewestwing', 1, 0)"
   ]
  },
  {
   "cell_type": "code",
   "execution_count": 11,
   "metadata": {},
   "outputs": [],
   "source": [
    "# Creates a function to lemmatize common word variants to their root word and\n",
    "# to remove stock stopwords from nltk library\n",
    "# I used the function we wrote in the NLP lesson as a template\n",
    "lemmatizer = WordNetLemmatizer()\n",
    "def clean_strings(post):\n",
    "    post = re.sub(\"[^a-zA-Z]\", \" \", post.lower()).split()\n",
    "    post = [lemmatizer.lemmatize(i) for i in post]\n",
    "    right_words = [w for w in post if w not in stopwords.words('english')]\n",
    "    return (\" \".join(right_words))\n",
    "\n",
    "# Applies function to text column\n",
    "# I got the .apply part from a data science friend, Jake Peavy\n",
    "west_house['text'] = west_house['text'].apply(clean_strings)"
   ]
  },
  {
   "cell_type": "code",
   "execution_count": 12,
   "metadata": {},
   "outputs": [],
   "source": [
    "# Clear any cells with no text, which would present as NaNs when I import my data into the modelling notebook\n",
    "west_house = west_house[west_house['text'] != \"\"]"
   ]
  },
  {
   "cell_type": "code",
   "execution_count": 13,
   "metadata": {},
   "outputs": [
    {
     "data": {
      "text/plain": [
       "163843"
      ]
     },
     "execution_count": 13,
     "metadata": {},
     "output_type": "execute_result"
    }
   ],
   "source": [
    "# Creates column for word count and then assigns the total word count by subreddit to a variable for each \n",
    "west_house['word_count'] = [len(i.split()) for i in west_house['text']]\n",
    "west_house['word_count'].sum()"
   ]
  },
  {
   "cell_type": "code",
   "execution_count": 14,
   "metadata": {},
   "outputs": [
    {
     "data": {
      "image/png": "[encoded data removed]",
      "text/plain": [
       "<Figure size 720x720 with 1 Axes>"
      ]
     },
     "metadata": {
      "needs_background": "light"
     },
     "output_type": "display_data"
    }
   ],
   "source": [
    "# Assigns the total word count by subreddit to a variable for each \n",
    "# post type (submission and comment)\n",
    "sub_words = list(west_house[west_house['submission'] == 1].groupby('subreddit')['word_count'].sum())\n",
    "com_words = list(west_house[west_house['submission'] == 0].groupby('subreddit')['word_count'].sum())\n",
    "\n",
    "# The following code was adapted from https://matplotlib.org/gallery/api/barchart.html\n",
    "ind = np.arange(2)\n",
    "width = 0.35\n",
    "fig, ax = plt.subplots(figsize=(10, 10))\n",
    "sub = ax.bar(ind - width/2, sub_words, width, color='dodgerblue', label='Submissions')\n",
    "com = ax.bar(ind + width/2, com_words, width, color='crimson', label='Comments')\n",
    "plt.title('Total Word Count by Post Type & Subreddit', fontsize=20)\n",
    "ax.set_ylabel('Word Count', fontsize=15)\n",
    "ax.set_xticks(ind)\n",
    "ax.set_xticklabels(['House Of Cards', 'The West Wing'], fontsize=15)\n",
    "ax.legend(fontsize=15)\n",
    "ax.set_ylim([0, 110_000])\n",
    "\n",
    "def autolabel(rects, xpos='center'):\n",
    "    ha = {'center': 'center', 'right': 'left', 'left': 'right'}\n",
    "    offset = {'center': .5, 'right': 0.25, 'left': 0.75}\n",
    "\n",
    "    for rect in rects:\n",
    "        height = rect.get_height()\n",
    "        ax.text(rect.get_x() + rect.get_width()*offset[xpos], 1.01*height,\n",
    "                '{}'.format(height), ha=ha[xpos], va='bottom', fontsize=15)\n",
    "autolabel(sub, \"left\")\n",
    "autolabel(com, \"right\");"
   ]
  },
  {
   "cell_type": "markdown",
   "metadata": {},
   "source": [
    "### Ready For Modelling\n",
    "\n",
    "Now that my data is squeaky clean, I am read to model. I saved my dataframe as a CSV file to use in the modelling notebook."
   ]
  },
  {
   "cell_type": "code",
   "execution_count": 15,
   "metadata": {},
   "outputs": [],
   "source": [
    "west_house.to_csv('../data/west_house.csv', index=False) "
   ]
  }
 ],
 "metadata": {
  "kernelspec": {
   "display_name": "Python 3",
   "language": "python",
   "name": "python3"
  },
  "language_info": {
   "codemirror_mode": {
    "name": "ipython",
    "version": 3
   },
   "file_extension": ".py",
   "mimetype": "text/x-python",
   "name": "python",
   "nbconvert_exporter": "python",
   "pygments_lexer": "ipython3",
   "version": "3.7.7"
  }
 },
 "nbformat": 4,
 "nbformat_minor": 4
}
